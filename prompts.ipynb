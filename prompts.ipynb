{
 "cells": [
  {
   "cell_type": "markdown",
   "metadata": {},
   "source": [
    "### AI Prompts Used:\n",
    "\n",
    "1. \"How to get the data_censored.csv dataset from the TrialEmulation package?\"\n",
    "2. \"Convert this R code into Python code\"\n",
    "3. \"What are the possible clustering methods that can be implemented in the TTE code?\"\n",
    "4. \"What's the difference between pre-TTE and post-TTE?\"\n",
    "5. \"Can you apply kmeans to the TTE code\""
   ]
  }
 ],
 "metadata": {
  "language_info": {
   "name": "python"
  }
 },
 "nbformat": 4,
 "nbformat_minor": 2
}
